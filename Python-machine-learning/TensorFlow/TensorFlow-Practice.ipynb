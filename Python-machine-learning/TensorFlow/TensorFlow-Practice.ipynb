{
 "cells": [
  {
   "cell_type": "code",
   "execution_count": 1,
   "metadata": {
    "collapsed": true
   },
   "outputs": [],
   "source": [
    "import tensorflow as tf\n",
    "import numpy as np"
   ]
  },
  {
   "cell_type": "code",
   "execution_count": 3,
   "metadata": {
    "collapsed": false
   },
   "outputs": [
    {
     "name": "stdout",
     "output_type": "stream",
     "text": [
      "[[ 22.]]\n"
     ]
    }
   ],
   "source": [
    "# Matrix Calculation\n",
    "\n",
    "matrix1= tf.constant([[3.,4.]])\n",
    "matrix2= tf.constant([[2.],[4.]])\n",
    "product= tf.matmul(matrix1,matrix2)\n",
    "\n",
    "with tf.Session() as sess:\n",
    "    result=sess.run(product)\n",
    "    print result"
   ]
  },
  {
   "cell_type": "code",
   "execution_count": 4,
   "metadata": {
    "collapsed": false
   },
   "outputs": [
    {
     "name": "stdout",
     "output_type": "stream",
     "text": [
      "[-1. -3.]\n"
     ]
    }
   ],
   "source": [
    "#Interactive use\n",
    "\n",
    "sess=tf.InteractiveSession()\n",
    "x=tf.Variable([3.,2.])\n",
    "a=tf.constant([4.,5.])\n",
    "x.initializer.run()\n",
    "sub= tf.sub(x,a)\n",
    "print(sub.eval())\n",
    "sess.close()"
   ]
  },
  {
   "cell_type": "code",
   "execution_count": 7,
   "metadata": {
    "collapsed": false
   },
   "outputs": [
    {
     "name": "stdout",
     "output_type": "stream",
     "text": [
      "[27.0, 9.0]\n"
     ]
    }
   ],
   "source": [
    "# Fetches\n",
    "a= tf.constant(3.)\n",
    "b=tf.constant(4.)\n",
    "c=tf.constant(5.)\n",
    "add=tf.add(b,c)\n",
    "mul=tf.mul(a,add)\n",
    "\n",
    "with tf.Session()as sess:\n",
    "    result=sess.run([mul,add])\n",
    "    print(result)\n"
   ]
  },
  {
   "cell_type": "code",
   "execution_count": 11,
   "metadata": {
    "collapsed": false
   },
   "outputs": [
    {
     "name": "stdout",
     "output_type": "stream",
     "text": [
      "Enter value7\n",
      "7\n"
     ]
    }
   ],
   "source": [
    "input=raw_input(\"Enter value\")\n",
    "print(input)\n"
   ]
  },
  {
   "cell_type": "code",
   "execution_count": 18,
   "metadata": {
    "collapsed": false
   },
   "outputs": [
    {
     "name": "stdout",
     "output_type": "stream",
     "text": [
      "********\n",
      "<tensorflow.python.ops.variables.Variable object at 0x7fb534d2aa50>\n",
      "<tensorflow.python.ops.variables.Variable object at 0x7fb534d2aad0>\n",
      "*********\n",
      "(0, array([ 2.17287064], dtype=float32), array([ 3.47132349], dtype=float32))\n",
      "(20, array([ 1.21571672], dtype=float32), array([ 2.87180614], dtype=float32))\n",
      "(40, array([ 1.0705297], dtype=float32), array([ 2.95808625], dtype=float32))\n",
      "(60, array([ 1.0230602], dtype=float32), array([ 2.98629618], dtype=float32))\n",
      "(80, array([ 1.00753963], dtype=float32), array([ 2.9955194], dtype=float32))\n",
      "(100, array([ 1.00246513], dtype=float32), array([ 2.99853492], dtype=float32))\n",
      "(120, array([ 1.00080609], dtype=float32), array([ 2.99952102], dtype=float32))\n",
      "(140, array([ 1.00026369], dtype=float32), array([ 2.99984336], dtype=float32))\n",
      "(160, array([ 1.00008631], dtype=float32), array([ 2.99994874], dtype=float32))\n",
      "(180, array([ 1.00002801], dtype=float32), array([ 2.99998331], dtype=float32))\n",
      "(200, array([ 1.00000918], dtype=float32), array([ 2.99999452], dtype=float32))\n"
     ]
    }
   ],
   "source": [
    "#Basic Mean Square Error Loss - Regression\n",
    "\n",
    "x_data=np.random.rand(100).astype(np.float32)\n",
    "y_data= x_data*1.0 + 3.0\n",
    "\n",
    "#print x_data\n",
    "#print y_data\n",
    "\n",
    "print \"********\"\n",
    "\n",
    "W=tf.Variable(tf.random_uniform([1],-1.0,1.0))\n",
    "\n",
    "\n",
    "b=tf.Variable(tf.zeros([1]))\n",
    "\n",
    "\n",
    "y= W*x_data + b\n",
    "\n",
    "loss=tf.reduce_mean(tf.square(y - y_data))\n",
    "optimizer=tf.train.GradientDescentOptimizer(.5)\n",
    "train=optimizer.minimize(loss)\n",
    "\n",
    "init=tf.initialize_all_variables()\n",
    "\n",
    "sess = tf.Session()\n",
    "sess.run(init)\n",
    "\n",
    "print W\n",
    "print b\n",
    "\n",
    "print \"*********\"\n",
    "\n",
    "# Fit the line.\n",
    "for step in xrange(201):\n",
    "    sess.run(train)\n",
    "    if step % 20 == 0:\n",
    "        print(step, sess.run(W), sess.run(b))"
   ]
  },
  {
   "cell_type": "code",
   "execution_count": null,
   "metadata": {
    "collapsed": true
   },
   "outputs": [],
   "source": []
  }
 ],
 "metadata": {
  "kernelspec": {
   "display_name": "Python 2",
   "language": "python",
   "name": "python2"
  },
  "language_info": {
   "codemirror_mode": {
    "name": "ipython",
    "version": 2
   },
   "file_extension": ".py",
   "mimetype": "text/x-python",
   "name": "python",
   "nbconvert_exporter": "python",
   "pygments_lexer": "ipython2",
   "version": "2.7.6"
  }
 },
 "nbformat": 4,
 "nbformat_minor": 0
}
