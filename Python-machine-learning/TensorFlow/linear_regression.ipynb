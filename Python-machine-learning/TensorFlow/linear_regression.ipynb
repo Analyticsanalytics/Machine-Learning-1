{
 "cells": [
  {
   "cell_type": "code",
   "execution_count": 1,
   "metadata": {
    "collapsed": true
   },
   "outputs": [],
   "source": [
    "# A linear regression learning algorithm example using TensorFlow library.\n"
   ]
  },
  {
   "cell_type": "code",
   "execution_count": 1,
   "metadata": {
    "collapsed": true
   },
   "outputs": [],
   "source": [
    "import tensorflow as tf\n",
    "import numpy as np\n",
    "import matplotlib.pyplot as plt\n",
    "%matplotlib inline\n",
    "rng = np.random"
   ]
  },
  {
   "cell_type": "code",
   "execution_count": 3,
   "metadata": {
    "collapsed": true
   },
   "outputs": [],
   "source": [
    "# Parameters\n",
    "learning_rate = 0.01\n",
    "training_epochs = 2000\n",
    "display_step = 50"
   ]
  },
  {
   "cell_type": "code",
   "execution_count": 2,
   "metadata": {
    "collapsed": false
   },
   "outputs": [],
   "source": [
    "# Training Data\n",
    "train_X = np.array([3.3,4.4,5.5,6.71,6.93,4.168,9.779,6.182,7.59,2.167,7.042,10.791,5.313,7.997,5.654,9.27,3.1])\n",
    "train_Y = np.array([1.7,2.76,2.09,3.19,1.694,1.573,3.366,2.596,2.53,1.221,2.827,3.465,1.65,2.904,2.42,2.94,1.3])\n",
    "n_samples = train_X.shape[0]\n",
    "\n"
   ]
  },
  {
   "cell_type": "code",
   "execution_count": 4,
   "metadata": {
    "collapsed": true
   },
   "outputs": [],
   "source": [
    "# tf Graph Input\n",
    "X = tf.placeholder(\"float\")\n",
    "Y = tf.placeholder(\"float\")"
   ]
  },
  {
   "cell_type": "code",
   "execution_count": 5,
   "metadata": {
    "collapsed": true
   },
   "outputs": [],
   "source": [
    "# Create Model\n",
    "\n",
    "# Set model weights\n",
    "W = tf.Variable(rng.randn(), name=\"weight\")\n",
    "b = tf.Variable(rng.randn(), name=\"bias\")"
   ]
  },
  {
   "cell_type": "code",
   "execution_count": 6,
   "metadata": {
    "collapsed": true
   },
   "outputs": [],
   "source": [
    "# Construct a linear model\n",
    "activation = tf.add(tf.mul(X, W), b)"
   ]
  },
  {
   "cell_type": "code",
   "execution_count": 7,
   "metadata": {
    "collapsed": false
   },
   "outputs": [],
   "source": [
    "# Minimize the squared errors for Linear regression\n",
    "cost = tf.reduce_sum(tf.pow(activation-Y, 2))/(2*n_samples) #L2 loss\n",
    "optimizer = tf.train.GradientDescentOptimizer(learning_rate).minimize(cost) #Gradient descent"
   ]
  },
  {
   "cell_type": "code",
   "execution_count": 8,
   "metadata": {
    "collapsed": true
   },
   "outputs": [],
   "source": [
    "# Initializing the variables\n",
    "init = tf.initialize_all_variables()"
   ]
  },
  {
   "cell_type": "code",
   "execution_count": 9,
   "metadata": {
    "collapsed": false
   },
   "outputs": [
    {
     "name": "stdout",
     "output_type": "stream",
     "text": [
      "Epoch: 0001 cost= 17.339784622 W= -0.470704 b= -0.32896\n",
      "Epoch: 0051 cost= 0.132458374 W= 0.381352 b= -0.146394\n",
      "Epoch: 0101 cost= 0.126045749 W= 0.373516 b= -0.0900199\n",
      "Epoch: 0151 cost= 0.120373867 W= 0.366145 b= -0.0369989\n",
      "Epoch: 0201 cost= 0.115357183 W= 0.359214 b= 0.0128686\n",
      "Epoch: 0251 cost= 0.110920087 W= 0.352694 b= 0.0597703\n",
      "Epoch: 0301 cost= 0.106995612 W= 0.346562 b= 0.103883\n",
      "Epoch: 0351 cost= 0.103524625 W= 0.340795 b= 0.145371\n",
      "Epoch: 0401 cost= 0.100454666 W= 0.335371 b= 0.184392\n",
      "Epoch: 0451 cost= 0.097739473 W= 0.330269 b= 0.221092\n",
      "Epoch: 0501 cost= 0.095338106 W= 0.325471 b= 0.25561\n",
      "Epoch: 0551 cost= 0.093214288 W= 0.320958 b= 0.288074\n",
      "Epoch: 0601 cost= 0.091335908 W= 0.316714 b= 0.318608\n",
      "Epoch: 0651 cost= 0.089674711 W= 0.312722 b= 0.347326\n",
      "Epoch: 0701 cost= 0.088205561 W= 0.308967 b= 0.374336\n",
      "Epoch: 0751 cost= 0.086906254 W= 0.305436 b= 0.39974\n",
      "Epoch: 0801 cost= 0.085757241 W= 0.302115 b= 0.423632\n",
      "Epoch: 0851 cost= 0.084741123 W= 0.298991 b= 0.446103\n",
      "Epoch: 0901 cost= 0.083842501 W= 0.296053 b= 0.467239\n",
      "Epoch: 0951 cost= 0.083047815 W= 0.29329 b= 0.487118\n",
      "Epoch: 1001 cost= 0.082345098 W= 0.290691 b= 0.505813\n",
      "Epoch: 1051 cost= 0.081723750 W= 0.288247 b= 0.523397\n",
      "Epoch: 1101 cost= 0.081174254 W= 0.285948 b= 0.539935\n",
      "Epoch: 1151 cost= 0.080688387 W= 0.283786 b= 0.55549\n",
      "Epoch: 1201 cost= 0.080258779 W= 0.281752 b= 0.57012\n",
      "Epoch: 1251 cost= 0.079878889 W= 0.279839 b= 0.58388\n",
      "Epoch: 1301 cost= 0.079543024 W= 0.27804 b= 0.596822\n",
      "Epoch: 1351 cost= 0.079246037 W= 0.276348 b= 0.608995\n",
      "Epoch: 1401 cost= 0.078983538 W= 0.274757 b= 0.620441\n",
      "Epoch: 1451 cost= 0.078751497 W= 0.273261 b= 0.631206\n",
      "Epoch: 1501 cost= 0.078546315 W= 0.271853 b= 0.641332\n",
      "Epoch: 1551 cost= 0.078364946 W= 0.27053 b= 0.650854\n",
      "Epoch: 1601 cost= 0.078204624 W= 0.269285 b= 0.659811\n",
      "Epoch: 1651 cost= 0.078062885 W= 0.268114 b= 0.668235\n",
      "Epoch: 1701 cost= 0.077937625 W= 0.267012 b= 0.676158\n",
      "Epoch: 1751 cost= 0.077826895 W= 0.265976 b= 0.683611\n",
      "Epoch: 1801 cost= 0.077729046 W= 0.265002 b= 0.69062\n",
      "Epoch: 1851 cost= 0.077642538 W= 0.264085 b= 0.697213\n",
      "Epoch: 1901 cost= 0.077566095 W= 0.263223 b= 0.703414\n",
      "Epoch: 1951 cost= 0.077498570 W= 0.262413 b= 0.709246\n",
      "Optimization Finished!\n",
      "cost= 0.07744 W= 0.261665 b= 0.714625\n"
     ]
    },
    {
     "data": {
      "image/png": "[encoded data removed]",
      "text/plain": [
       "<matplotlib.figure.Figure at 0x7f476c3100d0>"
      ]
     },
     "metadata": {},
     "output_type": "display_data"
    }
   ],
   "source": [
    "# Launch the graph\n",
    "with tf.Session() as sess:\n",
    "    sess.run(init)\n",
    "\n",
    "    # Fit all training data\n",
    "    for epoch in range(training_epochs):\n",
    "        for (x, y) in zip(train_X, train_Y):\n",
    "            sess.run(optimizer, feed_dict={X: x, Y: y})\n",
    "\n",
    "        #Display logs per epoch step\n",
    "        if epoch % display_step == 0:\n",
    "            print \"Epoch:\", '%04d' % (epoch+1), \"cost=\", \\\n",
    "                \"{:.9f}\".format(sess.run(cost, feed_dict={X: train_X, Y:train_Y})), \\\n",
    "                \"W=\", sess.run(W), \"b=\", sess.run(b)\n",
    "\n",
    "    print \"Optimization Finished!\"\n",
    "    print \"cost=\", sess.run(cost, feed_dict={X: train_X, Y: train_Y}), \\\n",
    "          \"W=\", sess.run(W), \"b=\", sess.run(b)\n",
    "\n",
    "    #Graphic display\n",
    "    plt.plot(train_X, train_Y, 'ro', label='Original data')\n",
    "    plt.plot(train_X, sess.run(W) * train_X + sess.run(b), label='Fitted line')\n",
    "    plt.legend()\n",
    "    plt.show()"
   ]
  },
  {
   "cell_type": "code",
   "execution_count": null,
   "metadata": {
    "collapsed": false
   },
   "outputs": [],
   "source": []
  },
  {
   "cell_type": "code",
   "execution_count": null,
   "metadata": {
    "collapsed": false
   },
   "outputs": [],
   "source": []
  },
  {
   "cell_type": "code",
   "execution_count": null,
   "metadata": {
    "collapsed": true
   },
   "outputs": [],
   "source": []
  }
 ],
 "metadata": {
  "kernelspec": {
   "display_name": "Python 2",
   "language": "python",
   "name": "python2"
  },
  "language_info": {
   "codemirror_mode": {
    "name": "ipython",
    "version": 2
   },
   "file_extension": ".py",
   "mimetype": "text/x-python",
   "name": "python",
   "nbconvert_exporter": "python",
   "pygments_lexer": "ipython2",
   "version": "2.7.6"
  }
 },
 "nbformat": 4,
 "nbformat_minor": 0
}
