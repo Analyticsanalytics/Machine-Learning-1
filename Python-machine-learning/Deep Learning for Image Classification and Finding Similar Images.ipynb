{
 "cells": [
  {
   "cell_type": "code",
   "execution_count": 1,
   "metadata": {
    "collapsed": false
   },
   "outputs": [
    {
     "name": "stderr",
     "output_type": "stream",
     "text": [
      "[WARNING] sklearn version 0.14.1 is not supported. Minimum required version: 0.15. sklearn support will be disabled.\n"
     ]
    }
   ],
   "source": [
    "import graphlab\n",
    "#graphlab.canvas.set_target('ipynb')"
   ]
  },
  {
   "cell_type": "markdown",
   "metadata": {},
   "source": [
    "Deep Learning Basics\n",
    "=========="
   ]
  },
  {
   "cell_type": "markdown",
   "metadata": {},
   "source": [
    "- Loading the Data\n",
    "- Training our Model\n",
    "- Evaluating the results of the model\n",
    "- Look at ways to improveing the performance of our model\n"
   ]
  },
  {
   "cell_type": "markdown",
   "metadata": {},
   "source": [
    "<img src=\"images/load.png\"></img>"
   ]
  },
  {
   "cell_type": "markdown",
   "metadata": {},
   "source": [
    "### Load Dataset\n",
    "\n",
    "We load the data into an SFame, which is a powerful and scalable data structure that is used by many of the models in GraphLab Create."
   ]
  },
  {
   "cell_type": "code",
   "execution_count": 2,
   "metadata": {
    "collapsed": false
   },
   "outputs": [
    {
     "name": "stderr",
     "output_type": "stream",
     "text": [
      "[INFO] This trial license of GraphLab Create is assigned to fgh@planwell.com and will expire on November 05, 2015. Please contact trial@dato.com for licensing options or to request a free non-commercial license for personal or academic use.\n",
      "\n",
      "[INFO] Start server at: ipc:///tmp/graphlab_server-4602 - Server binary: /usr/local/lib/python2.7/dist-packages/graphlab/unity_server - Server log: /tmp/graphlab_server_1445687277.log\n",
      "[INFO] GraphLab Server Version: 1.6.1\n"
     ]
    }
   ],
   "source": [
    "#image_train = graphlab.SFrame('http://s3.amazonaws.com/dato-datasets/coursera/deep_learning/image_train_data')\n",
    "#image_test = graphlab.SFrame('http://s3.amazonaws.com/dato-datasets/coursera/deep_learning/image_test_data')\n",
    "\n",
    "# I have this data downloaded in my local,so using it\n",
    "\n",
    "image_train = graphlab.SFrame('/home/kuntal/Downloads/github-notes/personal/tutorials-master/strata-nyc-2015/deep/image_train_data')\n",
    "image_test = graphlab.SFrame('/home/kuntal/Downloads/github-notes/personal/tutorials-master/strata-nyc-2015/deep/image_test_data')\n"
   ]
  },
  {
   "cell_type": "markdown",
   "metadata": {},
   "source": [
    "### Exploring the data"
   ]
  },
  {
   "cell_type": "code",
   "execution_count": 3,
   "metadata": {
    "collapsed": false
   },
   "outputs": [
    {
     "data": {
      "text/html": [
       "<div style=\"max-height:1000px;max-width:1500px;overflow:auto;\"><table frame=\"box\" rules=\"cols\">\n",
       "    <tr>\n",
       "        <th style=\"padding-left: 1em; padding-right: 1em; text-align: center\">id</th>\n",
       "        <th style=\"padding-left: 1em; padding-right: 1em; text-align: center\">image</th>\n",
       "        <th style=\"padding-left: 1em; padding-right: 1em; text-align: center\">label</th>\n",
       "        <th style=\"padding-left: 1em; padding-right: 1em; text-align: center\">deep_features</th>\n",
       "        <th style=\"padding-left: 1em; padding-right: 1em; text-align: center\">image_array</th>\n",
       "    </tr>\n",
       "    <tr>\n",
       "        <td style=\"padding-left: 1em; padding-right: 1em; text-align: center; vertical-align: top\">24</td>\n",
       "        <td style=\"padding-left: 1em; padding-right: 1em; text-align: center; vertical-align: top\">Height: 32 Width: 32</td>\n",
       "        <td style=\"padding-left: 1em; padding-right: 1em; text-align: center; vertical-align: top\">bird</td>\n",
       "        <td style=\"padding-left: 1em; padding-right: 1em; text-align: center; vertical-align: top\">[0.242871761322,<br>1.09545373917, 0.0, ...</td>\n",
       "        <td style=\"padding-left: 1em; padding-right: 1em; text-align: center; vertical-align: top\">[73.0, 77.0, 58.0, 71.0,<br>68.0, 50.0, 77.0, 69.0, ...</td>\n",
       "    </tr>\n",
       "    <tr>\n",
       "        <td style=\"padding-left: 1em; padding-right: 1em; text-align: center; vertical-align: top\">33</td>\n",
       "        <td style=\"padding-left: 1em; padding-right: 1em; text-align: center; vertical-align: top\">Height: 32 Width: 32</td>\n",
       "        <td style=\"padding-left: 1em; padding-right: 1em; text-align: center; vertical-align: top\">cat</td>\n",
       "        <td style=\"padding-left: 1em; padding-right: 1em; text-align: center; vertical-align: top\">[0.525087952614, 0.0,<br>0.0, 0.0, 0.0, 0.0, ...</td>\n",
       "        <td style=\"padding-left: 1em; padding-right: 1em; text-align: center; vertical-align: top\">[7.0, 5.0, 8.0, 7.0, 5.0,<br>8.0, 5.0, 4.0, 6.0, 7.0, ...</td>\n",
       "    </tr>\n",
       "    <tr>\n",
       "        <td style=\"padding-left: 1em; padding-right: 1em; text-align: center; vertical-align: top\">36</td>\n",
       "        <td style=\"padding-left: 1em; padding-right: 1em; text-align: center; vertical-align: top\">Height: 32 Width: 32</td>\n",
       "        <td style=\"padding-left: 1em; padding-right: 1em; text-align: center; vertical-align: top\">cat</td>\n",
       "        <td style=\"padding-left: 1em; padding-right: 1em; text-align: center; vertical-align: top\">[0.566015958786, 0.0,<br>0.0, 0.0, 0.0, 0.0, ...</td>\n",
       "        <td style=\"padding-left: 1em; padding-right: 1em; text-align: center; vertical-align: top\">[169.0, 122.0, 65.0,<br>131.0, 108.0, 75.0, ...</td>\n",
       "    </tr>\n",
       "    <tr>\n",
       "        <td style=\"padding-left: 1em; padding-right: 1em; text-align: center; vertical-align: top\">70</td>\n",
       "        <td style=\"padding-left: 1em; padding-right: 1em; text-align: center; vertical-align: top\">Height: 32 Width: 32</td>\n",
       "        <td style=\"padding-left: 1em; padding-right: 1em; text-align: center; vertical-align: top\">dog</td>\n",
       "        <td style=\"padding-left: 1em; padding-right: 1em; text-align: center; vertical-align: top\">[1.12979578972, 0.0, 0.0,<br>0.778194487095, 0.0, ...</td>\n",
       "        <td style=\"padding-left: 1em; padding-right: 1em; text-align: center; vertical-align: top\">[154.0, 179.0, 152.0,<br>159.0, 183.0, 157.0, ...</td>\n",
       "    </tr>\n",
       "    <tr>\n",
       "        <td style=\"padding-left: 1em; padding-right: 1em; text-align: center; vertical-align: top\">90</td>\n",
       "        <td style=\"padding-left: 1em; padding-right: 1em; text-align: center; vertical-align: top\">Height: 32 Width: 32</td>\n",
       "        <td style=\"padding-left: 1em; padding-right: 1em; text-align: center; vertical-align: top\">bird</td>\n",
       "        <td style=\"padding-left: 1em; padding-right: 1em; text-align: center; vertical-align: top\">[1.71786928177, 0.0, 0.0,<br>0.0, 0.0, 0.0, ...</td>\n",
       "        <td style=\"padding-left: 1em; padding-right: 1em; text-align: center; vertical-align: top\">[216.0, 195.0, 180.0,<br>201.0, 178.0, 160.0, ...</td>\n",
       "    </tr>\n",
       "    <tr>\n",
       "        <td style=\"padding-left: 1em; padding-right: 1em; text-align: center; vertical-align: top\">97</td>\n",
       "        <td style=\"padding-left: 1em; padding-right: 1em; text-align: center; vertical-align: top\">Height: 32 Width: 32</td>\n",
       "        <td style=\"padding-left: 1em; padding-right: 1em; text-align: center; vertical-align: top\">automobile</td>\n",
       "        <td style=\"padding-left: 1em; padding-right: 1em; text-align: center; vertical-align: top\">[1.57818555832, 0.0, 0.0,<br>0.0, 0.0, 0.0, ...</td>\n",
       "        <td style=\"padding-left: 1em; padding-right: 1em; text-align: center; vertical-align: top\">[33.0, 44.0, 27.0, 29.0,<br>44.0, 31.0, 32.0, 45.0, ...</td>\n",
       "    </tr>\n",
       "    <tr>\n",
       "        <td style=\"padding-left: 1em; padding-right: 1em; text-align: center; vertical-align: top\">107</td>\n",
       "        <td style=\"padding-left: 1em; padding-right: 1em; text-align: center; vertical-align: top\">Height: 32 Width: 32</td>\n",
       "        <td style=\"padding-left: 1em; padding-right: 1em; text-align: center; vertical-align: top\">dog</td>\n",
       "        <td style=\"padding-left: 1em; padding-right: 1em; text-align: center; vertical-align: top\">[0.0, 0.0,<br>0.220677852631, 0.0,  ...</td>\n",
       "        <td style=\"padding-left: 1em; padding-right: 1em; text-align: center; vertical-align: top\">[97.0, 51.0, 31.0, 104.0,<br>58.0, 38.0, 107.0, 61.0, ...</td>\n",
       "    </tr>\n",
       "    <tr>\n",
       "        <td style=\"padding-left: 1em; padding-right: 1em; text-align: center; vertical-align: top\">121</td>\n",
       "        <td style=\"padding-left: 1em; padding-right: 1em; text-align: center; vertical-align: top\">Height: 32 Width: 32</td>\n",
       "        <td style=\"padding-left: 1em; padding-right: 1em; text-align: center; vertical-align: top\">bird</td>\n",
       "        <td style=\"padding-left: 1em; padding-right: 1em; text-align: center; vertical-align: top\">[0.0, 0.23753464222, 0.0,<br>0.0, 0.0, 0.0, ...</td>\n",
       "        <td style=\"padding-left: 1em; padding-right: 1em; text-align: center; vertical-align: top\">[93.0, 96.0, 88.0, 102.0,<br>106.0, 97.0, 117.0, ...</td>\n",
       "    </tr>\n",
       "    <tr>\n",
       "        <td style=\"padding-left: 1em; padding-right: 1em; text-align: center; vertical-align: top\">136</td>\n",
       "        <td style=\"padding-left: 1em; padding-right: 1em; text-align: center; vertical-align: top\">Height: 32 Width: 32</td>\n",
       "        <td style=\"padding-left: 1em; padding-right: 1em; text-align: center; vertical-align: top\">automobile</td>\n",
       "        <td style=\"padding-left: 1em; padding-right: 1em; text-align: center; vertical-align: top\">[0.0, 0.0, 0.0, 0.0, 0.0,<br>0.0, 7.5737862587, 0.0, ...</td>\n",
       "        <td style=\"padding-left: 1em; padding-right: 1em; text-align: center; vertical-align: top\">[35.0, 59.0, 53.0, 36.0,<br>56.0, 56.0, 42.0, 62.0, ...</td>\n",
       "    </tr>\n",
       "    <tr>\n",
       "        <td style=\"padding-left: 1em; padding-right: 1em; text-align: center; vertical-align: top\">138</td>\n",
       "        <td style=\"padding-left: 1em; padding-right: 1em; text-align: center; vertical-align: top\">Height: 32 Width: 32</td>\n",
       "        <td style=\"padding-left: 1em; padding-right: 1em; text-align: center; vertical-align: top\">bird</td>\n",
       "        <td style=\"padding-left: 1em; padding-right: 1em; text-align: center; vertical-align: top\">[0.658935725689, 0.0,<br>0.0, 0.0, 0.0, 0.0, ...</td>\n",
       "        <td style=\"padding-left: 1em; padding-right: 1em; text-align: center; vertical-align: top\">[205.0, 193.0, 195.0,<br>200.0, 187.0, 193.0, ...</td>\n",
       "    </tr>\n",
       "</table>\n",
       "[2005 rows x 5 columns]<br/>Note: Only the head of the SFrame is printed.<br/>You can use print_rows(num_rows=m, num_columns=n) to print more rows and columns.\n",
       "</div>"
      ],
      "text/plain": [
       "Columns:\n",
       "\tid\tint\n",
       "\timage\tImage\n",
       "\tlabel\tstr\n",
       "\tdeep_features\tarray\n",
       "\timage_array\tarray\n",
       "\n",
       "Rows: 2005\n",
       "\n",
       "Data:\n",
       "+-----+----------------------+------------+-------------------------------+\n",
       "|  id |        image         |   label    |         deep_features         |\n",
       "+-----+----------------------+------------+-------------------------------+\n",
       "|  24 | Height: 32 Width: 32 |    bird    | [0.242871761322, 1.0954537... |\n",
       "|  33 | Height: 32 Width: 32 |    cat     | [0.525087952614, 0.0, 0.0,... |\n",
       "|  36 | Height: 32 Width: 32 |    cat     | [0.566015958786, 0.0, 0.0,... |\n",
       "|  70 | Height: 32 Width: 32 |    dog     | [1.12979578972, 0.0, 0.0, ... |\n",
       "|  90 | Height: 32 Width: 32 |    bird    | [1.71786928177, 0.0, 0.0, ... |\n",
       "|  97 | Height: 32 Width: 32 | automobile | [1.57818555832, 0.0, 0.0, ... |\n",
       "| 107 | Height: 32 Width: 32 |    dog     | [0.0, 0.0, 0.220677852631,... |\n",
       "| 121 | Height: 32 Width: 32 |    bird    | [0.0, 0.23753464222, 0.0, ... |\n",
       "| 136 | Height: 32 Width: 32 | automobile | [0.0, 0.0, 0.0, 0.0, 0.0, ... |\n",
       "| 138 | Height: 32 Width: 32 |    bird    | [0.658935725689, 0.0, 0.0,... |\n",
       "+-----+----------------------+------------+-------------------------------+\n",
       "+-------------------------------+\n",
       "|          image_array          |\n",
       "+-------------------------------+\n",
       "| [73.0, 77.0, 58.0, 71.0, 6... |\n",
       "| [7.0, 5.0, 8.0, 7.0, 5.0, ... |\n",
       "| [169.0, 122.0, 65.0, 131.0... |\n",
       "| [154.0, 179.0, 152.0, 159.... |\n",
       "| [216.0, 195.0, 180.0, 201.... |\n",
       "| [33.0, 44.0, 27.0, 29.0, 4... |\n",
       "| [97.0, 51.0, 31.0, 104.0, ... |\n",
       "| [93.0, 96.0, 88.0, 102.0, ... |\n",
       "| [35.0, 59.0, 53.0, 36.0, 5... |\n",
       "| [205.0, 193.0, 195.0, 200.... |\n",
       "+-------------------------------+\n",
       "[2005 rows x 5 columns]\n",
       "Note: Only the head of the SFrame is printed.\n",
       "You can use print_rows(num_rows=m, num_columns=n) to print more rows and columns."
      ]
     },
     "execution_count": 3,
     "metadata": {},
     "output_type": "execute_result"
    }
   ],
   "source": [
    "image_train"
   ]
  },
  {
   "cell_type": "code",
   "execution_count": 4,
   "metadata": {
    "collapsed": false
   },
   "outputs": [
    {
     "name": "stdout",
     "output_type": "stream",
     "text": [
      "Canvas is accessible via web browser at the URL: http://localhost:42383/index.html\n",
      "Opening Canvas in default web browser.\n"
     ]
    }
   ],
   "source": [
    "graphlab.image_analysis.resize(image_train['image'], 128, 128, 3).show()"
   ]
  },
  {
   "cell_type": "markdown",
   "metadata": {},
   "source": [
    "--------\n",
    "<img src=\"images/train.png\"></img>"
   ]
  },
  {
   "cell_type": "markdown",
   "metadata": {},
   "source": [
    "We now use the neuralnet_classifier provided by GraphLab Create to create a neural network for our data set. The create method picks a default network architecture for you based on the dataset. "
   ]
  },
  {
   "cell_type": "code",
   "execution_count": 5,
   "metadata": {
    "collapsed": false
   },
   "outputs": [
    {
     "name": "stdout",
     "output_type": "stream",
     "text": [
      "PROGRESS: Creating a validation set from 5 percent of training data. This may take a while.\n",
      "          You can set ``validation_set=None`` to disable validation tracking.\n",
      "\n",
      "PROGRESS: Logistic regression:\n",
      "PROGRESS: --------------------------------------------------------\n",
      "PROGRESS: Number of examples          : 1918\n",
      "PROGRESS: Number of classes           : 4\n",
      "PROGRESS: Number of feature columns   : 1\n",
      "PROGRESS: Number of unpacked features : 3072\n",
      "PROGRESS: Number of coefficients    : 9219\n",
      "PROGRESS: Starting L-BFGS\n",
      "PROGRESS: --------------------------------------------------------\n",
      "PROGRESS: +-----------+----------+-----------+--------------+-------------------+---------------------+\n",
      "PROGRESS: | Iteration | Passes   | Step size | Elapsed Time | Training-accuracy | Validation-accuracy |\n",
      "PROGRESS: +-----------+----------+-----------+--------------+-------------------+---------------------+\n",
      "PROGRESS: | 1         | 6        | 0.000012  | 4.127421     | 0.312826          | 0.321839            |\n",
      "PROGRESS: | 2         | 8        | 1.000000  | 5.354125     | 0.377998          | 0.333333            |\n",
      "PROGRESS: | 3         | 9        | 1.000000  | 6.062501     | 0.419708          | 0.333333            |\n",
      "PROGRESS: | 4         | 10       | 1.000000  | 6.766634     | 0.450469          | 0.344828            |\n",
      "PROGRESS: | 5         | 11       | 1.000000  | 7.472227     | 0.447862          | 0.367816            |\n",
      "PROGRESS: | 6         | 12       | 1.000000  | 8.182195     | 0.464546          | 0.298851            |\n",
      "PROGRESS: | 10        | 16       | 1.000000  | 11.046385    | 0.521376          | 0.413793            |\n",
      "PROGRESS: +-----------+----------+-----------+--------------+-------------------+---------------------+\n"
     ]
    }
   ],
   "source": [
    "raw_pixel_model = graphlab.logistic_classifier.create(image_train, features=['image_array'], target='label')"
   ]
  },
  {
   "cell_type": "markdown",
   "metadata": {},
   "source": [
    "-----\n",
    "<img src=\"images/evaluate.png\"></img>\n",
    "In order to ensure that the deep learning model is acutally learning how to recognize the data, instead of memorizing features, we want to validate it with a dataset it hasn't seen before."
   ]
  },
  {
   "cell_type": "markdown",
   "metadata": {},
   "source": [
    "### Making a single prediction"
   ]
  },
  {
   "cell_type": "code",
   "execution_count": 6,
   "metadata": {
    "collapsed": false
   },
   "outputs": [
    {
     "name": "stdout",
     "output_type": "stream",
     "text": [
      "Canvas is updated and available in a tab in the default browser.\n"
     ]
    }
   ],
   "source": [
    "graphlab.image_analysis.resize(image_test[0:1]['image'], 128, 128, 3).show()"
   ]
  },
  {
   "cell_type": "code",
   "execution_count": 7,
   "metadata": {
    "collapsed": false
   },
   "outputs": [
    {
     "data": {
      "text/plain": [
       "dtype: str\n",
       "Rows: 1\n",
       "['cat']"
      ]
     },
     "execution_count": 7,
     "metadata": {},
     "output_type": "execute_result"
    }
   ],
   "source": [
    "image_test[0:1]['label']"
   ]
  },
  {
   "cell_type": "code",
   "execution_count": 8,
   "metadata": {
    "collapsed": false
   },
   "outputs": [
    {
     "data": {
      "text/plain": [
       "dtype: str\n",
       "Rows: 1\n",
       "['bird']"
      ]
     },
     "execution_count": 8,
     "metadata": {},
     "output_type": "execute_result"
    }
   ],
   "source": [
    "raw_pixel_model.predict(image_test[0:1])"
   ]
  },
  {
   "cell_type": "markdown",
   "metadata": {},
   "source": [
    "### Evaluating the model"
   ]
  },
  {
   "cell_type": "code",
   "execution_count": 9,
   "metadata": {
    "collapsed": false
   },
   "outputs": [
    {
     "data": {
      "text/plain": [
       "{'accuracy': 0.475, 'confusion_matrix': Columns:\n",
       " \ttarget_label\tstr\n",
       " \tpredicted_label\tstr\n",
       " \tcount\tint\n",
       " \n",
       " Rows: 16\n",
       " \n",
       " Data:\n",
       " +--------------+-----------------+-------+\n",
       " | target_label | predicted_label | count |\n",
       " +--------------+-----------------+-------+\n",
       " |     dog      |    automobile   |  103  |\n",
       " |     cat      |       cat       |  313  |\n",
       " |     bird     |    automobile   |  134  |\n",
       " |  automobile  |    automobile   |  637  |\n",
       " |     dog      |       bird      |  245  |\n",
       " |     cat      |    automobile   |  167  |\n",
       " |     dog      |       dog       |  421  |\n",
       " |     cat      |       dog       |  304  |\n",
       " |     bird     |       cat       |  149  |\n",
       " |  automobile  |       bird      |  112  |\n",
       " +--------------+-----------------+-------+\n",
       " [16 rows x 3 columns]\n",
       " Note: Only the head of the SFrame is printed.\n",
       " You can use print_rows(num_rows=m, num_columns=n) to print more rows and columns.}"
      ]
     },
     "execution_count": 9,
     "metadata": {},
     "output_type": "execute_result"
    }
   ],
   "source": [
    "raw_pixel_model.evaluate(image_test)"
   ]
  },
  {
   "cell_type": "markdown",
   "metadata": {},
   "source": [
    "<img src=\"images/linear.png\" width=\"50%\" height=\"50%\"></img>\n"
   ]
  },
  {
   "cell_type": "markdown",
   "metadata": {},
   "source": [
    "-----\n",
    "<img src=\"images/improve.png\"></img>\n",
    "Our network does well on the data, but we'd like to do better. How can we improve it? "
   ]
  },
  {
   "cell_type": "code",
   "execution_count": 10,
   "metadata": {
    "collapsed": false
   },
   "outputs": [],
   "source": [
    "# if you wanted to do this on your own\n",
    "# step 1: deep_learning_model = graphlab.load_model('imagenet_model/')\n",
    "# step 2: image_train['deep_features'] = deep_learning_model.extract_features(image_train)"
   ]
  },
  {
   "cell_type": "code",
   "execution_count": 10,
   "metadata": {
    "collapsed": false
   },
   "outputs": [
    {
     "name": "stdout",
     "output_type": "stream",
     "text": [
      "Using network:\n",
      "\n",
      "### network layers ###\n",
      "layer[0]: ConvolutionLayer\n",
      "  init_random = gaussian\n",
      "  padding = 0\n",
      "  stride = 2\n",
      "  num_channels = 10\n",
      "  num_groups = 1\n",
      "  kernel_size = 3\n",
      "layer[1]: MaxPoolingLayer\n",
      "  padding = 0\n",
      "  stride = 2\n",
      "  kernel_size = 3\n",
      "layer[2]: FlattenLayer\n",
      "layer[3]: FullConnectionLayer\n",
      "  init_sigma = 0.01\n",
      "  init_random = gaussian\n",
      "  init_bias = 0\n",
      "  num_hidden_units = 100\n",
      "layer[4]: RectifiedLinearLayer\n",
      "layer[5]: DropoutLayer\n",
      "  threshold = 0.5\n",
      "layer[6]: FullConnectionLayer\n",
      "  init_sigma = 0.01\n",
      "  init_random = gaussian\n",
      "  init_bias = 0\n",
      "  num_hidden_units = 4\n",
      "layer[7]: SoftmaxLayer\n",
      "### end network layers ###\n",
      "\n",
      "### network parameters ###\n",
      "learning_rate = 0.001\n",
      "momentum = 0.9\n",
      "### end network parameters ###\n",
      "\n",
      "PROGRESS: Creating a validation set from 5 percent of training data. This may take a while.\n",
      "          You can set ``validation_set=None`` to disable validation tracking.\n",
      "\n",
      "PROGRESS: Computing mean image...\n",
      "PROGRESS: Done computing mean image.\n",
      "PROGRESS: For Nvidia GPU CUDA support, please pip install http://static.dato.com/files/graphlab-create-1.6.1.gpu.tar.gz\n",
      "PROGRESS: Creating neuralnet using cpu\n",
      "PROGRESS: Training with batch size = 100\n",
      "PROGRESS: +-----------+----------+--------------+-------------------+---------------------+-----------------+\n",
      "PROGRESS: | Iteration | Examples | Elapsed Time | Training-accuracy | Validation-accuracy | Examples/second |\n",
      "PROGRESS: +-----------+----------+--------------+-------------------+---------------------+-----------------+\n",
      "PROGRESS: | 1         | 2000     | 1.538942     | 0.290000          | 0.359223            | 1299.608032     |\n",
      "PROGRESS: | 2         | 2000     | 3.078555     | 0.383500          | 0.495146            | 1299.127197     |\n",
      "PROGRESS: | 3         | 2000     | 4.619388     | 0.452000          | 0.504854            | 1298.096436     |\n",
      "PROGRESS: | 4         | 2000     | 6.157219     | 0.507000          | 0.553398            | 1300.646851     |\n",
      "PROGRESS: | 5         | 2000     | 7.692045     | 0.538500          | 0.563107            | 1303.178101     |\n",
      "PROGRESS: | 6         | 2000     | 9.225901     | 0.582500          | 0.553398            | 1304.001343     |\n",
      "PROGRESS: | 7         | 2000     | 10.758300    | 0.600000          | 0.563107            | 1305.240112     |\n",
      "PROGRESS: | 8         | 2000     | 12.286668    | 0.600000          | 0.572816            | 1308.679565     |\n",
      "PROGRESS: | 9         | 2000     | 13.824531    | 0.620000          | 0.553398            | 1300.611938     |\n",
      "PROGRESS: | 10        | 2000     | 15.362807    | 0.633500          | 0.601942            | 1300.258423     |\n",
      "PROGRESS: +-----------+----------+--------------+-------------------+---------------------+-----------------+\n"
     ]
    }
   ],
   "source": [
    "deep_model = graphlab.neuralnet_classifier.create(image_train, features=['image'], target='label')"
   ]
  },
  {
   "cell_type": "markdown",
   "metadata": {},
   "source": [
    "### Evaluating the Improved Model"
   ]
  },
  {
   "cell_type": "code",
   "execution_count": 11,
   "metadata": {
    "collapsed": false
   },
   "outputs": [
    {
     "name": "stdout",
     "output_type": "stream",
     "text": [
      "Canvas is updated and available in a tab in the default browser.\n"
     ]
    }
   ],
   "source": [
    "graphlab.image_analysis.resize(image_test[0:1]['image'], 128, 128, 3).show()"
   ]
  },
  {
   "cell_type": "code",
   "execution_count": 12,
   "metadata": {
    "collapsed": false
   },
   "outputs": [
    {
     "data": {
      "text/plain": [
       "dtype: str\n",
       "Rows: 1\n",
       "['cat']"
      ]
     },
     "execution_count": 12,
     "metadata": {},
     "output_type": "execute_result"
    }
   ],
   "source": [
    "image_test[0:1]['label']"
   ]
  },
  {
   "cell_type": "code",
   "execution_count": 14,
   "metadata": {
    "collapsed": false
   },
   "outputs": [
    {
     "data": {
      "text/plain": [
       "dtype: str\n",
       "Rows: 1\n",
       "['dog']"
      ]
     },
     "execution_count": 14,
     "metadata": {},
     "output_type": "execute_result"
    }
   ],
   "source": [
    "deep_model.predict(image_test[0:1])"
   ]
  },
  {
   "cell_type": "code",
   "execution_count": 32,
   "metadata": {
    "collapsed": false
   },
   "outputs": [
    {
     "data": {
      "text/plain": [
       "{'accuracy': 0.597000002861023, 'confusion_matrix': Columns:\n",
       " \ttarget_label\tstr\n",
       " \tpredicted_label\tstr\n",
       " \tcount\tint\n",
       " \n",
       " Rows: 16\n",
       " \n",
       " Data:\n",
       " +--------------+-----------------+-------+\n",
       " | target_label | predicted_label | count |\n",
       " +--------------+-----------------+-------+\n",
       " |     bird     |       bird      |  511  |\n",
       " |     cat      |       bird      |  104  |\n",
       " |     dog      |       bird      |  134  |\n",
       " |  automobile  |       bird      |   25  |\n",
       " |     bird     |       cat       |  186  |\n",
       " |     cat      |       cat       |  521  |\n",
       " |     dog      |       cat       |  320  |\n",
       " |  automobile  |       cat       |   56  |\n",
       " |     bird     |       dog       |  164  |\n",
       " |     cat      |       dog       |  244  |\n",
       " +--------------+-----------------+-------+\n",
       " [16 rows x 3 columns]\n",
       " Note: Only the head of the SFrame is printed.\n",
       " You can use print_rows(num_rows=m, num_columns=n) to print more rows and columns.}"
      ]
     },
     "execution_count": 32,
     "metadata": {},
     "output_type": "execute_result"
    }
   ],
   "source": [
    "deep_model.evaluate(image_test)\n"
   ]
  },
  {
   "cell_type": "markdown",
   "metadata": {},
   "source": [
    "<img src=\"images/quadratic.png\" width=\"50%\" height=\"50%\"></img>\n"
   ]
  },
  {
   "cell_type": "markdown",
   "metadata": {},
   "source": [
    "### Improving the model further with Deep Features"
   ]
  },
  {
   "cell_type": "code",
   "execution_count": 15,
   "metadata": {
    "collapsed": false
   },
   "outputs": [
    {
     "name": "stdout",
     "output_type": "stream",
     "text": [
      "PROGRESS: Creating a validation set from 5 percent of training data. This may take a while.\n",
      "          You can set ``validation_set=None`` to disable validation tracking.\n",
      "\n",
      "PROGRESS: WARNING: Detected extremely low variance for feature(s) 'deep_features' because all entries are nearly the same.\n",
      "Proceeding with model training using all features. If the model does not provide results of adequate quality, exclude the above mentioned feature(s) from the input dataset.\n",
      "PROGRESS: Logistic regression:\n",
      "PROGRESS: --------------------------------------------------------\n",
      "PROGRESS: Number of examples          : 1892\n",
      "PROGRESS: Number of classes           : 4\n",
      "PROGRESS: Number of feature columns   : 1\n",
      "PROGRESS: Number of unpacked features : 4096\n",
      "PROGRESS: Number of coefficients    : 12291\n",
      "PROGRESS: Starting L-BFGS\n",
      "PROGRESS: --------------------------------------------------------\n",
      "PROGRESS: +-----------+----------+-----------+--------------+-------------------+---------------------+\n",
      "PROGRESS: | Iteration | Passes   | Step size | Elapsed Time | Training-accuracy | Validation-accuracy |\n",
      "PROGRESS: +-----------+----------+-----------+--------------+-------------------+---------------------+\n",
      "PROGRESS: | 1         | 5        | 0.000132  | 3.683424     | 0.737844          | 0.769912            |\n",
      "PROGRESS: | 2         | 9        | 0.250000  | 6.948159     | 0.760042          | 0.769912            |\n",
      "PROGRESS: | 3         | 10       | 0.250000  | 8.006847     | 0.764271          | 0.787611            |\n",
      "PROGRESS: | 4         | 11       | 0.250000  | 9.031338     | 0.766913          | 0.796460            |\n",
      "PROGRESS: | 5         | 12       | 0.250000  | 10.041417    | 0.773256          | 0.814159            |\n",
      "PROGRESS: | 6         | 13       | 0.250000  | 11.059629    | 0.784355          | 0.840708            |\n",
      "PROGRESS: | 7         | 14       | 0.250000  | 12.078799    | 0.798626          | 0.849558            |\n",
      "PROGRESS: | 8         | 15       | 0.250000  | 13.100502    | 0.816068          | 0.858407            |\n",
      "PROGRESS: | 9         | 16       | 0.250000  | 14.115039    | 0.841966          | 0.867257            |\n",
      "PROGRESS: | 10        | 17       | 0.250000  | 15.173263    | 0.855708          | 0.876106            |\n",
      "PROGRESS: +-----------+----------+-----------+--------------+-------------------+---------------------+\n"
     ]
    }
   ],
   "source": [
    "deep_features_model = graphlab.logistic_classifier.create(image_train, features=['deep_features'], target='label')"
   ]
  },
  {
   "cell_type": "markdown",
   "metadata": {},
   "source": [
    "### Evaluating the deep model"
   ]
  },
  {
   "cell_type": "code",
   "execution_count": 16,
   "metadata": {
    "collapsed": false
   },
   "outputs": [
    {
     "data": {
      "text/plain": [
       "{'accuracy': 0.788, 'confusion_matrix': Columns:\n",
       " \ttarget_label\tstr\n",
       " \tpredicted_label\tstr\n",
       " \tcount\tint\n",
       " \n",
       " Rows: 16\n",
       " \n",
       " Data:\n",
       " +--------------+-----------------+-------+\n",
       " | target_label | predicted_label | count |\n",
       " +--------------+-----------------+-------+\n",
       " |     dog      |    automobile   |   20  |\n",
       " |     bird     |       bird      |  817  |\n",
       " |  automobile  |       bird      |   28  |\n",
       " |     dog      |       bird      |   57  |\n",
       " |     cat      |    automobile   |   39  |\n",
       " |     cat      |       cat       |  663  |\n",
       " |     bird     |       cat       |  105  |\n",
       " |     cat      |       dog       |  208  |\n",
       " |     dog      |       dog       |  716  |\n",
       " |  automobile  |    automobile   |  956  |\n",
       " +--------------+-----------------+-------+\n",
       " [16 rows x 3 columns]\n",
       " Note: Only the head of the SFrame is printed.\n",
       " You can use print_rows(num_rows=m, num_columns=n) to print more rows and columns.}"
      ]
     },
     "execution_count": 16,
     "metadata": {},
     "output_type": "execute_result"
    }
   ],
   "source": [
    "deep_features_model.evaluate(image_test)\n"
   ]
  },
  {
   "cell_type": "markdown",
   "metadata": {},
   "source": [
    "-----------------------\n",
    "\n",
    "\n",
    "\n",
    "Finding Similar Images\n",
    "===================="
   ]
  },
  {
   "cell_type": "markdown",
   "metadata": {},
   "source": [
    "<img src=\"images/workflow3.png\"></img>\n"
   ]
  },
  {
   "cell_type": "code",
   "execution_count": 19,
   "metadata": {
    "collapsed": false
   },
   "outputs": [
    {
     "name": "stdout",
     "output_type": "stream",
     "text": [
      "PROGRESS: Starting brute force nearest neighbors model training.\n"
     ]
    }
   ],
   "source": [
    "nearest_neighbors_model = graphlab.nearest_neighbors.create(image_train, features=['deep_features'],\n",
    "                                                            label='id')"
   ]
  },
  {
   "cell_type": "code",
   "execution_count": 20,
   "metadata": {
    "collapsed": false
   },
   "outputs": [],
   "source": [
    "def get_nearest_neighbors(image):\n",
    "    ans = nearest_neighbors_model.query(image)\n",
    "    return image_train.filter_by(ans['reference_label'],'id')"
   ]
  },
  {
   "cell_type": "markdown",
   "metadata": {},
   "source": [
    "<img src=\"images/workflow4.png\"></img>\n"
   ]
  },
  {
   "cell_type": "markdown",
   "metadata": {},
   "source": [
    "### Similar Images: Cat Photo"
   ]
  },
  {
   "cell_type": "code",
   "execution_count": 21,
   "metadata": {
    "collapsed": false
   },
   "outputs": [
    {
     "name": "stdout",
     "output_type": "stream",
     "text": [
      "Canvas is updated and available in a tab in the default browser.\n"
     ]
    }
   ],
   "source": [
    "cat = image_train[18:19]\n",
    "graphlab.image_analysis.resize(cat['image'],128,128,3).show()"
   ]
  },
  {
   "cell_type": "code",
   "execution_count": 22,
   "metadata": {
    "collapsed": false
   },
   "outputs": [
    {
     "name": "stdout",
     "output_type": "stream",
     "text": [
      "PROGRESS: Starting pairwise querying.\n",
      "PROGRESS: +--------------+---------+-------------+--------------+\n",
      "PROGRESS: | Query points | # Pairs | % Complete. | Elapsed Time |\n",
      "PROGRESS: +--------------+---------+-------------+--------------+\n",
      "PROGRESS: | 0            | 1       | 0.0498753   | 14.672ms     |\n",
      "PROGRESS: | Done         |         | 100         | 275.724ms    |\n",
      "PROGRESS: +--------------+---------+-------------+--------------+\n",
      "Canvas is accessible via web browser at the URL: http://localhost:42383/index.html\n",
      "Opening Canvas in default web browser.\n"
     ]
    }
   ],
   "source": [
    "graphlab.image_analysis.resize(get_nearest_neighbors(cat)['image'],128,128,3).show()"
   ]
  },
  {
   "cell_type": "markdown",
   "metadata": {},
   "source": [
    "### Similar Images: Car Photo"
   ]
  },
  {
   "cell_type": "code",
   "execution_count": 29,
   "metadata": {
    "collapsed": false
   },
   "outputs": [
    {
     "data": {
      "application/javascript": [
       "$(\"head\").append($(\"<link/>\").attr({\n",
       "  rel:  \"stylesheet\",\n",
       "  type: \"text/css\",\n",
       "  href: \"//cdnjs.cloudflare.com/ajax/libs/font-awesome/4.1.0/css/font-awesome.min.css\"\n",
       "}));\n",
       "$(\"head\").append($(\"<link/>\").attr({\n",
       "  rel:  \"stylesheet\",\n",
       "  type: \"text/css\",\n",
       "  href: \"//dato.com/files/canvas/1.6/css/canvas.css\"\n",
       "}));\n",
       "\n",
       "            (function(){\n",
       "\n",
       "                var e = null;\n",
       "                if (typeof element == 'undefined') {\n",
       "                    var scripts = document.getElementsByTagName('script');\n",
       "                    var thisScriptTag = scripts[scripts.length-1];\n",
       "                    var parentDiv = thisScriptTag.parentNode;\n",
       "                    e = document.createElement('div');\n",
       "                    parentDiv.appendChild(e);\n",
       "                } else {\n",
       "                    e = element[0];\n",
       "                }\n",
       "\n",
       "                if (typeof requirejs !== 'undefined') {\n",
       "                    // disable load timeout; ipython_app.js is large and can take a while to load.\n",
       "                    requirejs.config({waitSeconds: 0});\n",
       "                }\n",
       "\n",
       "                require(['//dato.com/files/canvas/1.6/js/ipython_app.js'], function(IPythonApp){\n",
       "                    var app = new IPythonApp();\n",
       "                    app.attachView('sarray','Images', {\"ipython\": true, \"rows\": [{\"format\": \"png\", \"value\": \"image/png;base64,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\\n\", \"height\": 128, \"channels\": 3, \"width\": 128, \"type\": \"image\", \"id\": 4721543824}], \"selected_variable\": {\"name\": [\"<SArray>\"], \"dtype\": \"Image\", \"view_component\": \"Images\", \"view_file\": \"sarray\", \"descriptives\": {\"rows\": 1}, \"type\": \"SArray\", \"view_components\": [\"Images\"]}}, e);\n",
       "                });\n",
       "            })();\n",
       "        "
      ]
     },
     "metadata": {},
     "output_type": "display_data"
    }
   ],
   "source": [
    "car = image_train[8:9]\n",
    "graphlab.image_analysis.resize(car['image'], 128, 128, 3).show()"
   ]
  },
  {
   "cell_type": "code",
   "execution_count": 30,
   "metadata": {
    "collapsed": false
   },
   "outputs": [
    {
     "data": {
      "text/html": [
       "<pre>PROGRESS: Starting pairwise querying.</pre>"
      ],
      "text/plain": [
       "PROGRESS: Starting pairwise querying."
      ]
     },
     "metadata": {},
     "output_type": "display_data"
    },
    {
     "data": {
      "text/html": [
       "<pre>PROGRESS: +--------------+---------+-------------+--------------+</pre>"
      ],
      "text/plain": [
       "PROGRESS: +--------------+---------+-------------+--------------+"
      ]
     },
     "metadata": {},
     "output_type": "display_data"
    },
    {
     "data": {
      "text/html": [
       "<pre>PROGRESS: | Query points | # Pairs | % Complete. | Elapsed Time |</pre>"
      ],
      "text/plain": [
       "PROGRESS: | Query points | # Pairs | % Complete. | Elapsed Time |"
      ]
     },
     "metadata": {},
     "output_type": "display_data"
    },
    {
     "data": {
      "text/html": [
       "<pre>PROGRESS: +--------------+---------+-------------+--------------+</pre>"
      ],
      "text/plain": [
       "PROGRESS: +--------------+---------+-------------+--------------+"
      ]
     },
     "metadata": {},
     "output_type": "display_data"
    },
    {
     "data": {
      "text/html": [
       "<pre>PROGRESS: | 0            | 1       | 0.0498753   | 13.922ms     |</pre>"
      ],
      "text/plain": [
       "PROGRESS: | 0            | 1       | 0.0498753   | 13.922ms     |"
      ]
     },
     "metadata": {},
     "output_type": "display_data"
    },
    {
     "data": {
      "text/html": [
       "<pre>PROGRESS: | Done         |         | 100         | 395.811ms    |</pre>"
      ],
      "text/plain": [
       "PROGRESS: | Done         |         | 100         | 395.811ms    |"
      ]
     },
     "metadata": {},
     "output_type": "display_data"
    },
    {
     "data": {
      "text/html": [
       "<pre>PROGRESS: +--------------+---------+-------------+--------------+</pre>"
      ],
      "text/plain": [
       "PROGRESS: +--------------+---------+-------------+--------------+"
      ]
     },
     "metadata": {},
     "output_type": "display_data"
    },
    {
     "data": {
      "application/javascript": [
       "$(\"head\").append($(\"<link/>\").attr({\n",
       "  rel:  \"stylesheet\",\n",
       "  type: \"text/css\",\n",
       "  href: \"//cdnjs.cloudflare.com/ajax/libs/font-awesome/4.1.0/css/font-awesome.min.css\"\n",
       "}));\n",
       "$(\"head\").append($(\"<link/>\").attr({\n",
       "  rel:  \"stylesheet\",\n",
       "  type: \"text/css\",\n",
       "  href: \"//dato.com/files/canvas/1.6/css/canvas.css\"\n",
       "}));\n",
       "\n",
       "            (function(){\n",
       "\n",
       "                var e = null;\n",
       "                if (typeof element == 'undefined') {\n",
       "                    var scripts = document.getElementsByTagName('script');\n",
       "                    var thisScriptTag = scripts[scripts.length-1];\n",
       "                    var parentDiv = thisScriptTag.parentNode;\n",
       "                    e = document.createElement('div');\n",
       "                    parentDiv.appendChild(e);\n",
       "                } else {\n",
       "                    e = element[0];\n",
       "                }\n",
       "\n",
       "                if (typeof requirejs !== 'undefined') {\n",
       "                    // disable load timeout; ipython_app.js is large and can take a while to load.\n",
       "                    requirejs.config({waitSeconds: 0});\n",
       "                }\n",
       "\n",
       "                require(['//dato.com/files/canvas/1.6/js/ipython_app.js'], function(IPythonApp){\n",
       "                    var app = new IPythonApp();\n",
       "                    app.attachView('sarray','Images', {\"ipython\": true, \"rows\": [{\"format\": \"png\", \"value\": \"image/png;base64,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\\n\", \"height\": 256, \"channels\": 3, \"width\": 256, \"type\": \"image\", \"id\": 4721541328}, {\"format\": \"png\", \"value\": \"image/png;base64,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\\n\", \"height\": 256, \"channels\": 3, \"width\": 256, \"type\": \"image\", \"id\": 4721543632}, {\"format\": \"png\", \"value\": \"image/png;base64,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\\n\", \"height\": 256, \"channels\": 3, \"width\": 256, \"type\": \"image\", \"id\": 4721545104}, {\"format\": \"png\", \"value\": \"image/png;base64,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\\n\", \"height\": 256, \"channels\": 3, \"width\": 256, \"type\": \"image\", \"id\": 4721541584}, {\"format\": \"png\", \"value\": \"image/png;base64,iVBORw0KGgoAAAANSUhEUgAAAQAAAAEACAIAAADTED8xAAAUuklEQVR4nO2dSY8cZ3KGIzO/zMqqrqW3am4im2SLoqjxCNRYljVeZgADvhgYX3zyyT/B/8iADz6NYRgzgA2MYcAXW2MN7NFoo0gtJJvN3ruqa8uq3H2S0Qm88QvifW4VXV1fZla9lah4v4jw/vpvfiRXyBapIKbTGsbzuoTxZZbAuIi02y0Y9wP8/CjyYbzXXYPxOs20pdcivHSa4qMNWg7Gk1xbQbLKg/G404Hx1eISxj3Bawz6fW3pqAphPMjwS8URvuJPz8baEu1eF8d9/DHwA3w1ljl+fllH2tJnx0sYP9i/wC+V46Wn02njCLX1CLEABUBMQwEQ01AAxDRuNa2uPk5X+HknZ3MY39zZgPF+V/01MxrhXy3O4V+cWYhfyhf8u3y4gQ9JRNqugvGojZ+Pf6mJjOfqT/y0xEflWvgXqu/h32q+j5+frfApiEiu/PrvKz/9A1F+NOc4LiLLMc6ReC3lrEP8nraUQ8qVH8ciUq7wj+C6wv+S1/iQwrBxwXkHIKahAIhpKABiGgqAmIYCIKahAIhpKABiGtdqZmpnM5zv13Y11YLT0r6yO0pEtrfxdi4lbytVifdsHZ/gbWTpEieMReTGDt6R1uniJYocbyNzofrFEXVw5jsvsXUQKX5J6OElsoVuQUwUH2BrCOOew/n+7QHeZSgiSYV9olqwP1B7+OPhAnzapadaEGVawHhU4E9aUODPU2cwuPqQdwBiGgqAmIYCIKahAIhpKABiGgqAmIYCIKZxnX5jZ3Y0x/n+9XWlAr3G2Vl9L7101nDSvVaMgHYLF2L7YQzj0xmuNxCRk/MFjN8b3IRxJzhdnecTbYk4xkcVO/xd45dKPUCIM+JxR03SdzcUT6HC1sSixO/dKlRr/r0Yv3e5Uo9f5tgHKBSXo4rwey0irU3sZsQlPrvlFNtE7Xbj+bwDENNQAMQ0FAAxDQVATEMBENNQAMQ0FAAxjbucNlLj7RgnYk9PRzAexjj3vNlf15aMWzj9rFkK8/kUxm+98SaM9xdKlx8Rr8K54ULptZMpDVa7XfXs0kJpzavsdC9SnFnvilK64KkNl9aiAYxHBc6US43z/VGqLhE7fFTTFNcDlDU+66jEr9MKcL8gEbl1bQfGD/wDGD+N8Zd7t9VYgncAYhoKgJiGAiCmoQCIaSgAYhoKgJiGAiCmoQCIaVzVHNAQKJJIF9g0WSXYQwq8mbbkxib2WQbr2ATxlAkI+69ewHheqlMit/vYEnKC3SjPV7pc6d8b2nSJXo3bgbUCXOByO8a+z7WWWhAT1bgWp9/GzmCkTPisB1qRk1TKOI/LDDfMKh0+pG6A/dbUV5e+8HBHsK0b2zB+1McXqrPeOCTeAYhpKABiGgqAmIYCIKahAIhpKABiGgqAmMa1m3UDLsAZ8c1BD8ZfH49h/DLECWMRSVZ4BkcY4yqTuIP9gelYGRVRqarOV7j3VlfpQpVm2OWYLdSz2w5uwPiuw/EbHdzvadvhcd9dZYC2iHQC/KdQyfeHgg2TUimUEZFEuYB5jq2GizUcTyP8cTrXFhbJe/js1trYOhiO8VmMJt9cfcg7ADENBUBMQwEQ01AAxDQUADENBUBMQwEQ07heM3lcZzjRe72Pmy6dneJREXEXdz4SkeUK/8tlgv2BXk8ZkKE0UYqU+c8i0usrY70DnDMua+yK+O072hLLDG9Pfz7C3zXHBS6ccCUe910XeMaHiDgP5/W1qd6hUgWxG6idxYZDPEnkmw5+u1918XuxMcQuR6l0IhORrMZ/2t7CH4+BfwTj+88/vvqQdwBiGgqAmIYCIKahAIhpKABiGgqAmIYCIKZxnbCR9L0cKyOgsT0gPWXD9/gCj6IQkeE1nAOOlRICTxnC3FI28RcFzqCLSO3j01gV2FK4s/cYxjf9B9oSH//3dzB+cnKI/0GZzdEO8Y75dIkLMETEtfCJ72zjkoOjYzx55F6Am/mIyB/t4aEkoy28RDbHgzM8H5/dTk9d+nCKR7QEWtejPm6s9GD34dWHvAMQ01AAxDQUADENBUBMQwEQ01AAxDQUADGNc+3m3OAWTq7nK7zX/Pp1nADuTtQm/b0I7x1v+zglPp8qvecF1w9s7uAcs4hsbOEm/Z32Fozv3vkAxj/93QttiXaKuxW5DB+t7/B30EoxM5KV2kG/18KDF1Y5dj8KxdtxoZqMX4oyMEEZA+7l+DRmE5zUH+zg5L2IuBJ/DC5ePIfx68rS77/9h1cf8g5ATEMBENNQAMQ0FAAxDQVATEMBENNQAMQ0FAAxjZtNGxUwqxWuYPAdrlbZ2sRTLX76/jvakoXgLlSH57iUZD7Zh/FWB6u3LrFZIyJFhtt77f3wxzD++hx3rTq4UKpbRC4zXAmUO2xg9dfxIU3PsO+TFOr0itUILzGd4V5a7QA7YTsbqhvVibHXNlKGnpy+fgbjaYg/ZpPgrrZ0eHQG4y2lrOfWEJubw26jHot3AGIaCoCYhgIgpqEAiGkoAGIaCoCYhgIgpnFx0UjwZ8qU6TVlAkLo49yza+NEr4jEMc7Tb4V4iaWPE7qTGZ7/fH6qrSx7dx/BeLuDp1p8+fXnMF46nA4XkUxp4+V5eI7D/BKXARXKjO5A/8oql9iruTbchPEP38VjPtYv8YUVkbnD7sT0EifjLye4WsWrcLVKpFo48gNldsZ7w1sw/qi9BuNnF41T4B2AmIYCIKahAIhpKABiGgqAmIYCIKahAIhpXJw2kr6zGuf1W208VLkV4sxtkqlTKrIEt45aVTjHrPVvOj29gHHnXdOW3tm+DeNPn76G8WSB23sN2rgKQkTu3MSzNr57jqsaplO8k77K8dJ6olw8ZdjG7hs4U/7uQ+yKnH70ibbE01dfw3g4wENP7u3gC7V5hg/1ZyV2S0Tk7hq+sG1RPrGvD2C8ar4M7wDENBQAMQ0FQExDARDTUADENBQAMQ0FQEzjorqxzTry8a7rIsV5/etdnOjt1mrC+rPjYxg/vMQjoLME54w7CVbvHSX3LCLP/uPXMF4IzjHnFU7GJ0u1L9AswRcqXuICiVYb1w/MC5zeLjJ1QEYeKBNGJtgw+eLzr2C8u1Q9nDLDHs6wwh+bR4Lz+n+wjieVPBzhFkYiMvLwx+a4xKUI3RU+pPre3tWHvAMQ01AAxDQUADENBUBMQwEQ01AAxDQUADENBUBM49K8MXCh6+GWT/Ol0oXqRGlDpRdupErNzeIQG2G3U2xs/eTGD2F8r/+mtnSRYcMrjNowXipG2DzGfpCIjALsy1R9/F3jt/AhJcpg9KnSUkpEFhmeneHV2BIazrA3t6FcDRFpn+AJ77sVPus/7eD3zl1iJ/EymcC4iAQtXJK1o5RkLQa4z9ozv+G18Q5ATEMBENNQAMQ0FAAxDQVATEMBENNQAMQ0rttrDGpOc1xUcTrDid6zFZ4L3ap72pJbC5yWfruF8/cfbOD4bh/3e4pFXdpFMYwHNW6+FQSKneHj5L2IVNs4811WeIlCcNxXJo9Ugq0JEVkpVSmVh+NOGZTtVuoSwTVsE9U5nijeUfL9R/k5fn2njgHfqnBeP83xl/g/HeAeXp81P7G8AxDTUADENBQAMQ0FQExDARDTUADENBQAMY0rm0niRYn3/c9SnKDtt/A44msjVVr3V9dh/OHgBoxvxXhQtq+ULvgrtXWUX+O+S07xAbwaX43ax26JiNSeMs9DPSYlSV/gZLxXqWdX+LjHlu/wTvpAea+9UvUBPGW//jLBdQKJ4lrkSjswHxdBiIgclfiafyn4f/4txdZEXQ0bK6oLEmIACoCYhgIgpqEAiGkoAGIaCoCYhgIgpnF+1MjIrnl4p/udFc4lD3GZgPx+PcR/ENnzd2C8W+N2NJmSWK8rpQ1OidvdiAhOuYuyJV/vqBOW2iup06o9p/QFUiyIVDm7LFS/s3xlidJTSgsK3GKoXuLN+iJSrfCsjVAZ612s4QEZaRd/zEbpibZ0vMQXNr+NP057Dz+E8f5aw1biHYCYhgIgpqEAiGkoAGIaCoCYhgIgpqEAiGncZdJodX+zfxM+b6fAPsCbJe60c19wdlZE/Arv4y+UjLg2YtopGfdKTeuL5gQEnvJFoHTUyfTpB0pvHlF68IhX4U35ohxSpFRBiIj2SnWhGCYZro7wFoq5I1Io0wky5ayPPGWsxKUycHuqejhVjj+BoeIDfPjBYxhfXzQsC94BiGkoAGIaCoCYhgIgpqEAiGkoAGIaCoCYhgIgpnHbg4bzdec2nkZRO+xQxAe4LVExwm2JRKRUDC/fx2oMFfdKM4QypQ+UiNQ+/qdQ+SKolSkVpa/OcagCvLqf4SU87WhDZZaH0h9KRCLFa0uUkqLlAg83iZUmaCIy9rEFOI6U4ecJ9tSGKT6kG8p8FhF5GeMamkulHVhHcRLXtxoXlncAYhoKgJiGAiCmoQCIaSgAYhoKgJiGAiCmcX/24Z9ffZzEOKv6tHoN434bJ3Sz33yuLZkf475LmzGetREq/Z52lIy4C9WCmNBhH2CpDNBO+7hXl1epFTFuiV0LP8ZLSKQ8XynryUOl7EXkYoW9ml8+/xTG3eoMxj/cUYuZJoLz/cESWwfXlQsVB/hjdtFTPZxPfdx7a7/EtTXvZNihavca7ynvAMQ0FAAxDQVATEMBENNQAMQ0FAAxDQVATOOSbu/q46MR3iP+5Vffwfj9cADjcaxK6+PxPox3B3iYwt3reIB2b4QTvd1UnfO86XDSffv+A7zEH+MhC/lKTcaXU9xtaufONRgPnnwD4xsv8SiKDCfQRUR+vTqF8b8bfQ3j6ws89fr6ALsfIrKtbL7v1Th/31I6i52X2Df4xfmRtvR/CT7a/v0NGH+U3IHx1J9ffcg7ADENBUBMQwEQ01AAxDQUADENBUBMQwEQ07h5c+LB/mucfv7si2cwPhbcreVuqUprnuF9/CcL3Eoo7d6C8a8P8aHKDCeMReTxxjqM/+zdH8B4/fhdGM9ydYSErwy4lnfuwnA+x9URyyfYLTnw1BESv+sqvZse3Ifx7Fvs7UTYXxERudXCb3eiDMI46WIf4Ekb1wn8zxzXG4hIopQQDCZjGF+cvYLx5+cckEHI91AAxDQUADENBUBMQwEQ01AAxDQUADENBUBM4zb8RkFMkmBH4zDBLtXMw/Ufy3YPxkVkXfFlBrXS6GqB45tK66i0Vuc7tHL8p+AEt4hKfvO/OL7CZy0iA2UGx8nzYxgfP/sWxvMc23kfx3hWu4i8jLBL9d7uIxivZ9h1uh7gyiQRiX1c+HLYxhc2+xM8b+XO2/dg/G/1pbPzExg/folbtlUlfo+mVaORFu8AxDQUADENBUBMQwEQ01AAxDQUADENBUBM4/7zSWN6wkef/BY+bz7Baem0wrnk2z96Q1vyxnu4yqRIcSFGmOEl1ndwT655qRZ0HBzifP/f//YjGA+efQLjLldncHR9POZjsL4J48sK5/VPW7i910gf/3FrC/fe+smPfwrjl0rtzlK5SiLy5V18zcvHd2G8e2sI4/0+rkya6wbLd/vYSIl8/HaP8zmML3M2xiLkeygAYhoKgJiGAiCmoQCIaSgAYhoKgJjG/fxX/3718fkYtxmqPbwRfDLH/sCrA9zXSUTeemsPxreHOFN+4xYekJGP8YTkpa9Osf75P/8SxgtlpkaYKa2mAnWec6xsaB+0cFXDfIGT8ec1PqR+qZ7dtW18oTpDnHSf3t6C8bMb6oCM/jt46kS02YHxMFIGYp8dwvgXT7DxIiKzBI9uqTLceyto4aVd0LiAvAMQ01AAxDQUADENBUBMQwEQ01AAxDQUADGNu2hm070KZ7h9pyR6lYYwB6/weAIR+dW//guMDwa4ldDWcBvGd3bw4Iw1Za+5iJwdHcB4muJ8fxTipHsnVDPl3Rw3Vlos8U73ssL+gC+4CqJWZn2LiO/we5cv8DgPfwt7FvEQ+wki0trE1Q6tGh/t8XM8BvzgDDfzGc9G2tJliS9sK8KfzLiN42nS+NLnHYCYhgIgpqEAiGkoAGIaCoCYhgIgpqEAiGmc5I22KrnSQd/zsFTCKIbxolKb87w8xo3e3TluRxPt49KCIPwCxrUEsIgsE9yEp1ZGDYiPO+5LrTbn6ZRK+jnF+f5Ceam4hS94JbhOQPRrPhmfwnheY/djsK32dOp38dv98hO8j/9wH8/iXjplhkOlXthAqUjxamyMlEo7KWm+Du8AxDQUADENBUBMQwEQ01AAxDQUADENBUBMQwEQ07j3f+/h1cdffYudi/EEjxtYKaUkea7YECJlgSsbcqU0JFWe76fKcOZCXTqK8BTruIX9nbU17Gr5ul9TKoUsLYf7NPmKj5MrPbnCQC2ImVziwpf9Cntnb9/DAzU6a/hqiMiTT7HhNX/xEsYXM9w3Lengs+h3+9rSzuH3bpXgC1UV+OMUsDEWIf8PBUBMQwEQ01AAxDQUADENBUBMQwEQ07i/+su/uPr4xSvcsejJM9zh6LsXL2D89ZE6IOPiAhe+JAluHVVV2AcIlIx4ssCWhYj4Pha8c7gBVkvxDdZiHBeRQR9nsqMI19aEij8wn+GkfrRzU1v65ACPkg53cKewtbd2YfzVt/i9FpHR6RE+Kg8n3UulYVZZ4+oWp1wlEanxp0CiGDcpS5Tip6JpE/EOQExDARDTUADENBQAMQ0FQExDARDTUADENK7baWz+fvTgPnze3i5uljSe4A3fB0c4YSwiR0fYatDiJyc4vT26xMMUprOZtrQ2CKNQNt8vUtxqqkjUTfnrXZyWfriHL+yF0g5sPsJnUWfq2fklnhy+vjaE8XR2AeP5BL8RIpJneInCx1n6uqUYLDHO92fKFAwRqbHTIJ5gS6FWPB/Pa7x3vAMQ01AAxDQUADENBUBMQwEQ01AAxDQUADGN94t/+Merj6tSm1yAE7SVkp6tPbzNXUSqCu8RXyQ4wz1TdsaPJ/j548mltvR0iv8lWeBShKLAVyMK1S+Oe7t4v/57jx/B+GxyDuMrpToiVwZxi94hZ3uArYlWhZdoK66IiJxluNZiVirzUEplLIiHjRRfm0giEvj4E1Wpw0rwe5TlrAcg5HsoAGIaCoCYhgIgpvk/HGzoYJ9N1zsAAAAASUVORK5CYII=\\n\", \"height\": 256, \"channels\": 3, \"width\": 256, \"type\": \"image\", \"id\": 4721542928}], \"selected_variable\": {\"name\": [\"<SArray>\"], \"dtype\": \"Image\", \"view_component\": \"Images\", \"view_file\": \"sarray\", \"descriptives\": {\"rows\": 5}, \"type\": \"SArray\", \"view_components\": [\"Images\"]}}, e);\n",
       "                });\n",
       "            })();\n",
       "        "
      ]
     },
     "metadata": {},
     "output_type": "display_data"
    }
   ],
   "source": [
    "graphlab.image_analysis.resize(get_nearest_neighbors(car)['image'],256,256,3).show()"
   ]
  },
  {
   "cell_type": "code",
   "execution_count": null,
   "metadata": {
    "collapsed": false
   },
   "outputs": [],
   "source": []
  }
 ],
 "metadata": {
  "kernelspec": {
   "display_name": "Python 2",
   "language": "python",
   "name": "python2"
  },
  "language_info": {
   "codemirror_mode": {
    "name": "ipython",
    "version": 2
   },
   "file_extension": ".py",
   "mimetype": "text/x-python",
   "name": "python",
   "nbconvert_exporter": "python",
   "pygments_lexer": "ipython2",
   "version": "2.7.6"
  }
 },
 "nbformat": 4,
 "nbformat_minor": 0
}
